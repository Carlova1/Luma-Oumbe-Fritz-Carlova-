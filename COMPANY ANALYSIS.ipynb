{
 "cells": [
  {
   "cell_type": "markdown",
   "metadata": {},
   "source": [
    "# Introduction\n",
    "We recently launched a new line of office stationery focused on fostering creativity and enhancing brainstorming capabilities. To optimize the sales approach for this new product line, we tested three different sales strategies: email, call, and a combination of email and call. The purpose of this analysis is to evaluate the effectiveness of these sales methods and provide insights to inform the sales strategy moving forward.\n",
    "\n",
    "This report will detail the data validation and cleaning process, present the results of the explaratory data analysis, define a metric for the business to monitor, and provide recommendations based on the findings. By leveraging data-driven insights, we can hopefully make more informed decisions to improve sales performance and ensure the sucess of the new product line."
   ]
  },
  {
   "cell_type": "code",
   "execution_count": null,
   "metadata": {
    "executionTime": 78,
    "jupyter": {
     "source_hidden": true
    },
    "lastSuccessfullyExecutedCode": "# library imports\nimport pandas as pd\nimport numpy as np\nimport seaborn as sns\nimport matplotlib.pyplot as plt\nplt.style.use('fivethirtyeight')\n%matplotlib inline",
    "tags": []
   },
   "outputs": [],
   "source": [
    "# library Other neccessary imports\n",
    "\n",
    "import matplotlib.pyplot as plt\n",
    "plt.style.use('fivethirtyeight')\n",
    "%matplotlib inline"
   ]
  },
  {
   "cell_type": "markdown",
   "metadata": {},
   "source": [
    "# Data Importing and Validation"
   ]
  },
  {
   "cell_type": "markdown",
   "metadata": {},
   "source": [
    "The original dataset has 15000 rows and 8 columns.\n",
    "- The **week** column contains integer values from 1-6 corresponding to each week and 0 null values. No changes to this column were necessary.\n",
    "- The **sales_method** column contains 5 different unique values **(Email, Call, Email + Call, em + call, email)** and 0 null values. The column should only contain 3 unique values corresponding to each type of sales method. Upon inspection of the values in this column simple mistakes such as different capitalization and use of abbrevations created two extra sets of values. Changes were made and after cleaning the column only contains the following 3 different value types corresponding to each alternate sales method: Email, Call, Email + Call\n",
    "- The **customer_id** column contains unique identifiers for each customer and had no missing values. No changes to this column were required.\n",
    "- The **revenue** column had 1074 missing values. I decided that the best approach to handle these missing values would be to replace them by the mean revenue corresponding to each type of sales_method.\n",
    "- The **years_as_customer** column has 0 missing values, however we had 2 rows with invalid values. Since our company was founded in 1984, the maximum amount of years we could have any given customer is 39. Two rows had values with 47 and 63, which we know is not possible. I assume this was just a mistake in data entry, and I will replace these two values with 39.\n",
    "- The **nb_site_visits** column has 0 missing values and all data is valid. No changes needed to be made to this column\n",
    "- The **state** The column has 0 missing values and 50 unique values corresponding to each state. No changes need to be made to this column\n",
    "\n",
    "Finally after all the data validation and cleaning I checked for any duplicate rows and found none. After cleaning and validating the data our dataset contains 15000 rows and 8 columns with 0 missing values."
   ]
  },
  {
   "cell_type": "code",
   "execution_count": 14,
   "metadata": {
    "executionTime": 0,
    "jupyter": {
     "outputs_hidden": false,
     "source_hidden": true
    },
    "lastSuccessfullyExecutedCode": "# import data\nsales_data = pd.read_csv('product_sales.csv')"
   },
   "outputs": [
    {
     "data": {
      "text/html": [
       "<div>\n",
       "<style scoped>\n",
       "    .dataframe tbody tr th:only-of-type {\n",
       "        vertical-align: middle;\n",
       "    }\n",
       "\n",
       "    .dataframe tbody tr th {\n",
       "        vertical-align: top;\n",
       "    }\n",
       "\n",
       "    .dataframe thead th {\n",
       "        text-align: right;\n",
       "    }\n",
       "</style>\n",
       "<table border=\"1\" class=\"dataframe\">\n",
       "  <thead>\n",
       "    <tr style=\"text-align: right;\">\n",
       "      <th></th>\n",
       "      <th>week</th>\n",
       "      <th>sales_method</th>\n",
       "      <th>customer_id</th>\n",
       "      <th>nb_sold</th>\n",
       "      <th>revenue</th>\n",
       "      <th>years_as_customer</th>\n",
       "      <th>nb_site_visits</th>\n",
       "      <th>state</th>\n",
       "    </tr>\n",
       "  </thead>\n",
       "  <tbody>\n",
       "    <tr>\n",
       "      <th>0</th>\n",
       "      <td>2</td>\n",
       "      <td>Email</td>\n",
       "      <td>2e72d641-95ac-497b-bbf8-4861764a7097</td>\n",
       "      <td>10</td>\n",
       "      <td>NaN</td>\n",
       "      <td>0</td>\n",
       "      <td>24</td>\n",
       "      <td>Arizona</td>\n",
       "    </tr>\n",
       "    <tr>\n",
       "      <th>1</th>\n",
       "      <td>6</td>\n",
       "      <td>Email + Call</td>\n",
       "      <td>3998a98d-70f5-44f7-942e-789bb8ad2fe7</td>\n",
       "      <td>15</td>\n",
       "      <td>225.47</td>\n",
       "      <td>1</td>\n",
       "      <td>28</td>\n",
       "      <td>Kansas</td>\n",
       "    </tr>\n",
       "    <tr>\n",
       "      <th>2</th>\n",
       "      <td>5</td>\n",
       "      <td>Call</td>\n",
       "      <td>d1de9884-8059-4065-b10f-86eef57e4a44</td>\n",
       "      <td>11</td>\n",
       "      <td>52.55</td>\n",
       "      <td>6</td>\n",
       "      <td>26</td>\n",
       "      <td>Wisconsin</td>\n",
       "    </tr>\n",
       "    <tr>\n",
       "      <th>3</th>\n",
       "      <td>4</td>\n",
       "      <td>Email</td>\n",
       "      <td>78aa75a4-ffeb-4817-b1d0-2f030783c5d7</td>\n",
       "      <td>11</td>\n",
       "      <td>NaN</td>\n",
       "      <td>3</td>\n",
       "      <td>25</td>\n",
       "      <td>Indiana</td>\n",
       "    </tr>\n",
       "    <tr>\n",
       "      <th>4</th>\n",
       "      <td>3</td>\n",
       "      <td>Email</td>\n",
       "      <td>10e6d446-10a5-42e5-8210-1b5438f70922</td>\n",
       "      <td>9</td>\n",
       "      <td>90.49</td>\n",
       "      <td>0</td>\n",
       "      <td>28</td>\n",
       "      <td>Illinois</td>\n",
       "    </tr>\n",
       "    <tr>\n",
       "      <th>...</th>\n",
       "      <td>...</td>\n",
       "      <td>...</td>\n",
       "      <td>...</td>\n",
       "      <td>...</td>\n",
       "      <td>...</td>\n",
       "      <td>...</td>\n",
       "      <td>...</td>\n",
       "      <td>...</td>\n",
       "    </tr>\n",
       "    <tr>\n",
       "      <th>14995</th>\n",
       "      <td>4</td>\n",
       "      <td>Call</td>\n",
       "      <td>17267b41-d048-4346-8b90-7f787690a836</td>\n",
       "      <td>10</td>\n",
       "      <td>50.82</td>\n",
       "      <td>0</td>\n",
       "      <td>22</td>\n",
       "      <td>Pennsylvania</td>\n",
       "    </tr>\n",
       "    <tr>\n",
       "      <th>14996</th>\n",
       "      <td>5</td>\n",
       "      <td>Call</td>\n",
       "      <td>09e10d6f-4508-4b27-895e-4db11ce8302b</td>\n",
       "      <td>10</td>\n",
       "      <td>52.33</td>\n",
       "      <td>1</td>\n",
       "      <td>27</td>\n",
       "      <td>Kansas</td>\n",
       "    </tr>\n",
       "    <tr>\n",
       "      <th>14997</th>\n",
       "      <td>1</td>\n",
       "      <td>Call</td>\n",
       "      <td>839653cb-68c9-48cb-a097-0a5a3b2b298b</td>\n",
       "      <td>7</td>\n",
       "      <td>34.87</td>\n",
       "      <td>4</td>\n",
       "      <td>22</td>\n",
       "      <td>West Virginia</td>\n",
       "    </tr>\n",
       "    <tr>\n",
       "      <th>14998</th>\n",
       "      <td>6</td>\n",
       "      <td>Call</td>\n",
       "      <td>e4dad70a-b23b-407c-8bd3-e32ea00fae17</td>\n",
       "      <td>13</td>\n",
       "      <td>64.90</td>\n",
       "      <td>2</td>\n",
       "      <td>27</td>\n",
       "      <td>New Jersey</td>\n",
       "    </tr>\n",
       "    <tr>\n",
       "      <th>14999</th>\n",
       "      <td>5</td>\n",
       "      <td>Email + Call</td>\n",
       "      <td>4e077235-7c17-4054-9997-7a890336a214</td>\n",
       "      <td>13</td>\n",
       "      <td>NaN</td>\n",
       "      <td>4</td>\n",
       "      <td>25</td>\n",
       "      <td>Illinois</td>\n",
       "    </tr>\n",
       "  </tbody>\n",
       "</table>\n",
       "<p>15000 rows × 8 columns</p>\n",
       "</div>"
      ],
      "text/plain": [
       "       week  sales_method                           customer_id  nb_sold  \\\n",
       "0         2         Email  2e72d641-95ac-497b-bbf8-4861764a7097       10   \n",
       "1         6  Email + Call  3998a98d-70f5-44f7-942e-789bb8ad2fe7       15   \n",
       "2         5          Call  d1de9884-8059-4065-b10f-86eef57e4a44       11   \n",
       "3         4         Email  78aa75a4-ffeb-4817-b1d0-2f030783c5d7       11   \n",
       "4         3         Email  10e6d446-10a5-42e5-8210-1b5438f70922        9   \n",
       "...     ...           ...                                   ...      ...   \n",
       "14995     4          Call  17267b41-d048-4346-8b90-7f787690a836       10   \n",
       "14996     5          Call  09e10d6f-4508-4b27-895e-4db11ce8302b       10   \n",
       "14997     1          Call  839653cb-68c9-48cb-a097-0a5a3b2b298b        7   \n",
       "14998     6          Call  e4dad70a-b23b-407c-8bd3-e32ea00fae17       13   \n",
       "14999     5  Email + Call  4e077235-7c17-4054-9997-7a890336a214       13   \n",
       "\n",
       "       revenue  years_as_customer  nb_site_visits          state  \n",
       "0          NaN                  0              24        Arizona  \n",
       "1       225.47                  1              28         Kansas  \n",
       "2        52.55                  6              26      Wisconsin  \n",
       "3          NaN                  3              25        Indiana  \n",
       "4        90.49                  0              28       Illinois  \n",
       "...        ...                ...             ...            ...  \n",
       "14995    50.82                  0              22   Pennsylvania  \n",
       "14996    52.33                  1              27         Kansas  \n",
       "14997    34.87                  4              22  West Virginia  \n",
       "14998    64.90                  2              27     New Jersey  \n",
       "14999      NaN                  4              25       Illinois  \n",
       "\n",
       "[15000 rows x 8 columns]"
      ]
     },
     "execution_count": 14,
     "metadata": {},
     "output_type": "execute_result"
    }
   ],
   "source": [
    "# import data\n",
    "import pandas as pd\n",
    "data=pd.read_csv(\"product_sales.csv\")\n",
    "data"
   ]
  },
  {
   "cell_type": "code",
   "execution_count": 27,
   "metadata": {
    "executionTime": 69,
    "jupyter": {
     "outputs_hidden": true,
     "source_hidden": true
    },
    "lastSuccessfullyExecutedCode": "sales_data.head()",
    "tags": []
   },
   "outputs": [
    {
     "data": {
      "text/html": [
       "<div>\n",
       "<style scoped>\n",
       "    .dataframe tbody tr th:only-of-type {\n",
       "        vertical-align: middle;\n",
       "    }\n",
       "\n",
       "    .dataframe tbody tr th {\n",
       "        vertical-align: top;\n",
       "    }\n",
       "\n",
       "    .dataframe thead th {\n",
       "        text-align: right;\n",
       "    }\n",
       "</style>\n",
       "<table border=\"1\" class=\"dataframe\">\n",
       "  <thead>\n",
       "    <tr style=\"text-align: right;\">\n",
       "      <th></th>\n",
       "      <th>week</th>\n",
       "      <th>sales_method</th>\n",
       "      <th>customer_id</th>\n",
       "      <th>nb_sold</th>\n",
       "      <th>revenue</th>\n",
       "      <th>years_as_customer</th>\n",
       "      <th>nb_site_visits</th>\n",
       "      <th>state</th>\n",
       "    </tr>\n",
       "  </thead>\n",
       "  <tbody>\n",
       "    <tr>\n",
       "      <th>0</th>\n",
       "      <td>2</td>\n",
       "      <td>Email</td>\n",
       "      <td>2e72d641-95ac-497b-bbf8-4861764a7097</td>\n",
       "      <td>10</td>\n",
       "      <td>NaN</td>\n",
       "      <td>0</td>\n",
       "      <td>24</td>\n",
       "      <td>Arizona</td>\n",
       "    </tr>\n",
       "    <tr>\n",
       "      <th>1</th>\n",
       "      <td>6</td>\n",
       "      <td>Email + Call</td>\n",
       "      <td>3998a98d-70f5-44f7-942e-789bb8ad2fe7</td>\n",
       "      <td>15</td>\n",
       "      <td>225.47</td>\n",
       "      <td>1</td>\n",
       "      <td>28</td>\n",
       "      <td>Kansas</td>\n",
       "    </tr>\n",
       "    <tr>\n",
       "      <th>2</th>\n",
       "      <td>5</td>\n",
       "      <td>Call</td>\n",
       "      <td>d1de9884-8059-4065-b10f-86eef57e4a44</td>\n",
       "      <td>11</td>\n",
       "      <td>52.55</td>\n",
       "      <td>6</td>\n",
       "      <td>26</td>\n",
       "      <td>Wisconsin</td>\n",
       "    </tr>\n",
       "    <tr>\n",
       "      <th>3</th>\n",
       "      <td>4</td>\n",
       "      <td>Email</td>\n",
       "      <td>78aa75a4-ffeb-4817-b1d0-2f030783c5d7</td>\n",
       "      <td>11</td>\n",
       "      <td>NaN</td>\n",
       "      <td>3</td>\n",
       "      <td>25</td>\n",
       "      <td>Indiana</td>\n",
       "    </tr>\n",
       "    <tr>\n",
       "      <th>4</th>\n",
       "      <td>3</td>\n",
       "      <td>Email</td>\n",
       "      <td>10e6d446-10a5-42e5-8210-1b5438f70922</td>\n",
       "      <td>9</td>\n",
       "      <td>90.49</td>\n",
       "      <td>0</td>\n",
       "      <td>28</td>\n",
       "      <td>Illinois</td>\n",
       "    </tr>\n",
       "    <tr>\n",
       "      <th>5</th>\n",
       "      <td>6</td>\n",
       "      <td>Call</td>\n",
       "      <td>6489e678-40f2-4fed-a48e-d0dff9c09205</td>\n",
       "      <td>13</td>\n",
       "      <td>65.01</td>\n",
       "      <td>10</td>\n",
       "      <td>24</td>\n",
       "      <td>Mississippi</td>\n",
       "    </tr>\n",
       "    <tr>\n",
       "      <th>6</th>\n",
       "      <td>4</td>\n",
       "      <td>Email</td>\n",
       "      <td>eb6bd5f1-f115-4e4b-80a6-5e67fcfbfb94</td>\n",
       "      <td>11</td>\n",
       "      <td>113.38</td>\n",
       "      <td>9</td>\n",
       "      <td>28</td>\n",
       "      <td>Georgia</td>\n",
       "    </tr>\n",
       "    <tr>\n",
       "      <th>7</th>\n",
       "      <td>1</td>\n",
       "      <td>Email</td>\n",
       "      <td>047df079-071b-4380-9012-2bfe9bce45d5</td>\n",
       "      <td>10</td>\n",
       "      <td>99.94</td>\n",
       "      <td>1</td>\n",
       "      <td>22</td>\n",
       "      <td>Oklahoma</td>\n",
       "    </tr>\n",
       "    <tr>\n",
       "      <th>8</th>\n",
       "      <td>5</td>\n",
       "      <td>Email</td>\n",
       "      <td>771586bd-7b64-40be-87df-afe884d2af9e</td>\n",
       "      <td>11</td>\n",
       "      <td>108.34</td>\n",
       "      <td>10</td>\n",
       "      <td>31</td>\n",
       "      <td>Massachusetts</td>\n",
       "    </tr>\n",
       "    <tr>\n",
       "      <th>9</th>\n",
       "      <td>5</td>\n",
       "      <td>Call</td>\n",
       "      <td>56491dae-bbe7-49f0-a651-b823a01103d8</td>\n",
       "      <td>11</td>\n",
       "      <td>53.82</td>\n",
       "      <td>7</td>\n",
       "      <td>23</td>\n",
       "      <td>Missouri</td>\n",
       "    </tr>\n",
       "  </tbody>\n",
       "</table>\n",
       "</div>"
      ],
      "text/plain": [
       "   week  sales_method                           customer_id  nb_sold  revenue  \\\n",
       "0     2         Email  2e72d641-95ac-497b-bbf8-4861764a7097       10      NaN   \n",
       "1     6  Email + Call  3998a98d-70f5-44f7-942e-789bb8ad2fe7       15   225.47   \n",
       "2     5          Call  d1de9884-8059-4065-b10f-86eef57e4a44       11    52.55   \n",
       "3     4         Email  78aa75a4-ffeb-4817-b1d0-2f030783c5d7       11      NaN   \n",
       "4     3         Email  10e6d446-10a5-42e5-8210-1b5438f70922        9    90.49   \n",
       "5     6          Call  6489e678-40f2-4fed-a48e-d0dff9c09205       13    65.01   \n",
       "6     4         Email  eb6bd5f1-f115-4e4b-80a6-5e67fcfbfb94       11   113.38   \n",
       "7     1         Email  047df079-071b-4380-9012-2bfe9bce45d5       10    99.94   \n",
       "8     5         Email  771586bd-7b64-40be-87df-afe884d2af9e       11   108.34   \n",
       "9     5          Call  56491dae-bbe7-49f0-a651-b823a01103d8       11    53.82   \n",
       "\n",
       "   years_as_customer  nb_site_visits          state  \n",
       "0                  0              24        Arizona  \n",
       "1                  1              28         Kansas  \n",
       "2                  6              26      Wisconsin  \n",
       "3                  3              25        Indiana  \n",
       "4                  0              28       Illinois  \n",
       "5                 10              24    Mississippi  \n",
       "6                  9              28        Georgia  \n",
       "7                  1              22       Oklahoma  \n",
       "8                 10              31  Massachusetts  \n",
       "9                  7              23       Missouri  "
      ]
     },
     "execution_count": 27,
     "metadata": {},
     "output_type": "execute_result"
    }
   ],
   "source": [
    "# print the first 10 rows of the data\n",
    "data.head(10)"
   ]
  },
  {
   "cell_type": "code",
   "execution_count": 16,
   "metadata": {
    "executionTime": 60,
    "jupyter": {
     "outputs_hidden": true,
     "source_hidden": true
    },
    "lastSuccessfullyExecutedCode": "sales_data.shape"
   },
   "outputs": [
    {
     "data": {
      "text/plain": [
       "(15000, 8)"
      ]
     },
     "execution_count": 16,
     "metadata": {},
     "output_type": "execute_result"
    }
   ],
   "source": [
    "# Determine the number of rows and columns\n",
    "data.shape"
   ]
  },
  {
   "cell_type": "code",
   "execution_count": 17,
   "metadata": {
    "executionTime": 44,
    "jupyter": {
     "outputs_hidden": true,
     "source_hidden": true
    },
    "lastSuccessfullyExecutedCode": "sales_data.info()"
   },
   "outputs": [
    {
     "name": "stdout",
     "output_type": "stream",
     "text": [
      "<class 'pandas.core.frame.DataFrame'>\n",
      "RangeIndex: 15000 entries, 0 to 14999\n",
      "Data columns (total 8 columns):\n",
      " #   Column             Non-Null Count  Dtype  \n",
      "---  ------             --------------  -----  \n",
      " 0   week               15000 non-null  int64  \n",
      " 1   sales_method       15000 non-null  object \n",
      " 2   customer_id        15000 non-null  object \n",
      " 3   nb_sold            15000 non-null  int64  \n",
      " 4   revenue            13926 non-null  float64\n",
      " 5   years_as_customer  15000 non-null  int64  \n",
      " 6   nb_site_visits     15000 non-null  int64  \n",
      " 7   state              15000 non-null  object \n",
      "dtypes: float64(1), int64(4), object(3)\n",
      "memory usage: 937.6+ KB\n"
     ]
    }
   ],
   "source": [
    "# Present some information from the database. Use the info() \n",
    "# and Describe()\n",
    "data.info(data.head)\n"
   ]
  },
  {
   "cell_type": "code",
   "execution_count": 19,
   "metadata": {},
   "outputs": [
    {
     "data": {
      "text/plain": [
       "<bound method NDFrame.describe of        week  sales_method                           customer_id  nb_sold  \\\n",
       "0         2         Email  2e72d641-95ac-497b-bbf8-4861764a7097       10   \n",
       "1         6  Email + Call  3998a98d-70f5-44f7-942e-789bb8ad2fe7       15   \n",
       "2         5          Call  d1de9884-8059-4065-b10f-86eef57e4a44       11   \n",
       "3         4         Email  78aa75a4-ffeb-4817-b1d0-2f030783c5d7       11   \n",
       "4         3         Email  10e6d446-10a5-42e5-8210-1b5438f70922        9   \n",
       "...     ...           ...                                   ...      ...   \n",
       "14995     4          Call  17267b41-d048-4346-8b90-7f787690a836       10   \n",
       "14996     5          Call  09e10d6f-4508-4b27-895e-4db11ce8302b       10   \n",
       "14997     1          Call  839653cb-68c9-48cb-a097-0a5a3b2b298b        7   \n",
       "14998     6          Call  e4dad70a-b23b-407c-8bd3-e32ea00fae17       13   \n",
       "14999     5  Email + Call  4e077235-7c17-4054-9997-7a890336a214       13   \n",
       "\n",
       "       revenue  years_as_customer  nb_site_visits          state  \n",
       "0          NaN                  0              24        Arizona  \n",
       "1       225.47                  1              28         Kansas  \n",
       "2        52.55                  6              26      Wisconsin  \n",
       "3          NaN                  3              25        Indiana  \n",
       "4        90.49                  0              28       Illinois  \n",
       "...        ...                ...             ...            ...  \n",
       "14995    50.82                  0              22   Pennsylvania  \n",
       "14996    52.33                  1              27         Kansas  \n",
       "14997    34.87                  4              22  West Virginia  \n",
       "14998    64.90                  2              27     New Jersey  \n",
       "14999      NaN                  4              25       Illinois  \n",
       "\n",
       "[15000 rows x 8 columns]>"
      ]
     },
     "execution_count": 19,
     "metadata": {},
     "output_type": "execute_result"
    }
   ],
   "source": [
    "data.describe"
   ]
  },
  {
   "cell_type": "code",
   "execution_count": 22,
   "metadata": {},
   "outputs": [
    {
     "data": {
      "text/plain": [
       "Index(['week', 'sales_method', 'customer_id', 'nb_sold', 'revenue',\n",
       "       'years_as_customer', 'nb_site_visits', 'state'],\n",
       "      dtype='object')"
      ]
     },
     "execution_count": 22,
     "metadata": {},
     "output_type": "execute_result"
    }
   ],
   "source": [
    "data.columns"
   ]
  },
  {
   "cell_type": "code",
   "execution_count": 24,
   "metadata": {
    "executionTime": 75,
    "jupyter": {
     "outputs_hidden": true,
     "source_hidden": true
    },
    "lastSuccessfullyExecutedCode": "# Check the value counts to ensure there are only 3 unique values\nprint(sales_data['sales_method'].value_counts())"
   },
   "outputs": [
    {
     "data": {
      "text/plain": [
       "Email           7456\n",
       "Call            4962\n",
       "Email + Call    2549\n",
       "em + call         23\n",
       "email             10\n",
       "Name: sales_method, dtype: int64"
      ]
     },
     "execution_count": 24,
     "metadata": {},
     "output_type": "execute_result"
    }
   ],
   "source": [
    "# Check the various sales methods to ensure there are only 3 unique values. \n",
    "# Use the value_counts() and print the result\n",
    "sales_method=data['sales_method'].value_counts()\n",
    "sales_method"
   ]
  },
  {
   "cell_type": "code",
   "execution_count": 25,
   "metadata": {},
   "outputs": [
    {
     "name": "stdout",
     "output_type": "stream",
     "text": [
      "Error: there are not exactly 3 unique sales methods.\n"
     ]
    }
   ],
   "source": [
    "if len(sales_method) !=3:\n",
    "    print(\"Error: there are not exactly 3 unique sales methods.\")\n",
    "else:\n",
    "    print(\"There are exactly 3 unique sales methods.\")"
   ]
  },
  {
   "cell_type": "code",
   "execution_count": 29,
   "metadata": {
    "executionTime": 26,
    "jupyter": {
     "outputs_hidden": true,
     "source_hidden": true
    },
    "lastSuccessfullyExecutedCode": "# Define a mapping dictionary to correct the inconsistent values\nsales_method_mapping = {\n    'Email': 'Email',\n    'Call': 'Call',\n    'Email + Call': 'Email + Call',\n    'em + call': 'Email + Call',\n    'email': 'Email'\n}\n\n# Apply the mapping to the 'sales_method' column\nsales_data['sales_method'] = sales_data['sales_method'].map(sales_method_mapping)\n\n# Check the value counts to ensure there are only 3 unique values\nprint(sales_data['sales_method'].value_counts())"
   },
   "outputs": [
    {
     "name": "stdout",
     "output_type": "stream",
     "text": [
      "There are exactly 3 unique sales methods.\n"
     ]
    }
   ],
   "source": [
    "# Define a mapping dictionary to correct the inconsistent values(em + call and email)\n",
    "\n",
    "\n",
    "# Apply the mapping to the 'sales_method' column\n",
    "\n",
    "\n",
    "# Check the value counts to ensure there are only 3 unique values\n",
    "\n",
    "mapping_dict={\n",
    "    'Email':  'Email',\n",
    "    'Call': 'Call',\n",
    "    'Email + Call': 'Email + Call',\n",
    "    'em + call':  'Email + Call',\n",
    "    'email':  'Email'\n",
    "}\n",
    "data['sales_method']=data['sales_method'].map(mapping_dict)\n",
    "sales_method=data['sales_method'].value_counts()\n",
    "sales_method\n",
    "if len(sales_method) !=3:\n",
    "    print(\"Error: there are not exactly 3 unique sales methods.\")\n",
    "else:\n",
    "    print(\"There are exactly 3 unique sales methods.\")"
   ]
  },
  {
   "cell_type": "code",
   "execution_count": 30,
   "metadata": {},
   "outputs": [
    {
     "name": "stdout",
     "output_type": "stream",
     "text": [
      "       week  sales_method                           customer_id  nb_sold  \\\n",
      "14990     2          Call  b8e19654-e5a1-4094-aaa7-99a9821f9c06        9   \n",
      "14991     2  Email + Call  b5c6d6e0-1237-4785-b088-17064d44d366       10   \n",
      "14992     5  Email + Call  cd9e6945-ae21-4bed-a6cf-f0302e6c4795       12   \n",
      "14993     1         Email  3ec54950-652e-4d8a-bc49-8b5c770c6cd2        8   \n",
      "14994     4         Email  56f02e26-3633-427d-8c4e-f45f00afa787       11   \n",
      "14995     4          Call  17267b41-d048-4346-8b90-7f787690a836       10   \n",
      "14996     5          Call  09e10d6f-4508-4b27-895e-4db11ce8302b       10   \n",
      "14997     1          Call  839653cb-68c9-48cb-a097-0a5a3b2b298b        7   \n",
      "14998     6          Call  e4dad70a-b23b-407c-8bd3-e32ea00fae17       13   \n",
      "14999     5  Email + Call  4e077235-7c17-4054-9997-7a890336a214       13   \n",
      "\n",
      "       revenue  years_as_customer  nb_site_visits          state  \n",
      "14990    45.18                  0              28       Michigan  \n",
      "14991   149.57                  1              30       Virginia  \n",
      "14992      NaN                  1              34       New York  \n",
      "14993    83.98                  2              21          Texas  \n",
      "14994   109.36                  3              25           Ohio  \n",
      "14995    50.82                  0              22   Pennsylvania  \n",
      "14996    52.33                  1              27         Kansas  \n",
      "14997    34.87                  4              22  West Virginia  \n",
      "14998    64.90                  2              27     New Jersey  \n",
      "14999      NaN                  4              25       Illinois  \n"
     ]
    }
   ],
   "source": [
    "print(data.tail(10))"
   ]
  },
  {
   "cell_type": "code",
   "execution_count": 31,
   "metadata": {
    "executionTime": 30,
    "jupyter": {
     "outputs_hidden": true,
     "source_hidden": true
    },
    "lastSuccessfullyExecutedCode": "# find mean revenue for each sales method\nmean_revenue_by_sales_method = sales_data.groupby('sales_method')['revenue'].mean()\nprint(mean_revenue_by_sales_method)"
   },
   "outputs": [
    {
     "name": "stdout",
     "output_type": "stream",
     "text": [
      "sales_method\n",
      "Call             47.597467\n",
      "Email            97.127684\n",
      "Email + Call    183.651233\n",
      "Name: revenue, dtype: float64\n"
     ]
    }
   ],
   "source": [
    "# find the Average revenue for each sales method. Print the Value\n",
    "Average_revenue=data.groupby('sales_method')['revenue'].mean()\n",
    "print(Average_revenue)"
   ]
  },
  {
   "cell_type": "code",
   "execution_count": 34,
   "metadata": {
    "executionTime": 21,
    "jupyter": {
     "outputs_hidden": true,
     "source_hidden": true
    },
    "lastSuccessfullyExecutedCode": "sales_data[sales_data['years_as_customer'] > 39]"
   },
   "outputs": [
    {
     "name": "stdout",
     "output_type": "stream",
     "text": [
      "41\n",
      "no customer have years greater than 41\n"
     ]
    }
   ],
   "source": [
    "# The company was founded in 1984, the maximum amount of years we could have any given customer is 41.\n",
    "# Are there any customers who have a year recorded thats greater than 41? \n",
    "max_year=2025\n",
    "founded_year=1984\n",
    "max_possible_year=max_year-founded_year\n",
    "print(max_possible_year)\n",
    "year=data['years_as_customer']\n",
    "greater_year=year[year>max_possible_year+founded_year]\n",
    "if not greater_year.empty:\n",
    "    print(\"there are customers with years greater than\",max_possible_year)\n",
    "    print(greater_year)\n",
    "else:\n",
    "    print(\"no customer have years greater than\",max_possible_year)"
   ]
  },
  {
   "cell_type": "code",
   "execution_count": null,
   "metadata": {
    "executionTime": 0,
    "jupyter": {
     "outputs_hidden": false,
     "source_hidden": true
    },
    "lastSuccessfullyExecutedCode": "# find all values > 39 and replace with 39\nsales_data.loc[sales_data['years_as_customer'] > 39, 'years_as_customer'] = 39"
   },
   "outputs": [],
   "source": [
    "# Replace those customers years with 41\n"
   ]
  },
  {
   "cell_type": "code",
   "execution_count": null,
   "metadata": {
    "executionTime": 28,
    "jupyter": {
     "outputs_hidden": true,
     "source_hidden": true
    },
    "lastSuccessfullyExecutedCode": "# check to see if replacement worked\nsales_data[sales_data['years_as_customer'] > 39]"
   },
   "outputs": [],
   "source": [
    "# check to see if replacement worked\n"
   ]
  },
  {
   "cell_type": "code",
   "execution_count": 35,
   "metadata": {
    "executionTime": 21,
    "jupyter": {
     "outputs_hidden": true,
     "source_hidden": true
    },
    "lastSuccessfullyExecutedCode": "# check number of unique values for state\nsales_data['state'].nunique()"
   },
   "outputs": [
    {
     "name": "stdout",
     "output_type": "stream",
     "text": [
      "50\n"
     ]
    }
   ],
   "source": [
    "# check number of unique values for state\n",
    "unique_state=data['state'].nunique()\n",
    "print(unique_state)"
   ]
  },
  {
   "cell_type": "code",
   "execution_count": null,
   "metadata": {
    "executionTime": 20,
    "jupyter": {
     "outputs_hidden": true,
     "source_hidden": true
    },
    "lastSuccessfullyExecutedCode": "# check if any duplicate rows\nduplicate_rows = sales_data[sales_data.duplicated()]\nduplicate_rows",
    "tags": []
   },
   "outputs": [],
   "source": [
    "# check if any duplicate rows in the sales_data"
   ]
  },
  {
   "cell_type": "code",
   "execution_count": 37,
   "metadata": {
    "executionTime": 37,
    "jupyter": {
     "outputs_hidden": true,
     "source_hidden": true
    },
    "lastSuccessfullyExecutedCode": "sales_data.info()"
   },
   "outputs": [
    {
     "name": "stdout",
     "output_type": "stream",
     "text": [
      "0\n"
     ]
    }
   ],
   "source": [
    "duplicate=sales_method.duplicated().sum()\n",
    "print(duplicate)"
   ]
  },
  {
   "cell_type": "markdown",
   "metadata": {},
   "source": [
    "# 3. Exploratory Analysis"
   ]
  },
  {
   "cell_type": "markdown",
   "metadata": {},
   "source": [
    "### A. Number of Customers for each Sales Method\n",
    "Our most popular sales method during the 6 week period was via Email with a total of 7466 customers, followed by the Call method with 4962 customers and finally the Email + Call method with 2572 total customers."
   ]
  },
  {
   "cell_type": "code",
   "execution_count": 39,
   "metadata": {
    "executionTime": 49,
    "jupyter": {
     "source_hidden": true
    },
    "lastSuccessfullyExecutedCode": "# find number of customers for each sales method\ncustomers_by_sales_method = sales_data['sales_method'].value_counts()\nprint(customers_by_sales_method)",
    "tags": []
   },
   "outputs": [
    {
     "name": "stdout",
     "output_type": "stream",
     "text": [
      "Email           7466\n",
      "Call            4962\n",
      "Email + Call    2572\n",
      "Name: sales_method, dtype: int64\n"
     ]
    }
   ],
   "source": [
    "# find number of customers for each sales method\n",
    "cust_per_method=data['sales_method'].value_counts()\n",
    "print(cust_per_method)"
   ]
  },
  {
   "cell_type": "code",
   "execution_count": 42,
   "metadata": {
    "executionTime": 34,
    "jupyter": {
     "source_hidden": true
    },
    "lastSuccessfullyExecutedCode": "customers_by_sales_method = sales_data['sales_method'].value_counts()\n\nax = sns.barplot(x=customers_by_sales_method.index, y=customers_by_sales_method.values)\n\nplt.title(\"Number of Customers by Sales Method\")\nplt.xlabel(\"Sales Method\")\nplt.ylabel(\"Number of Customers\")\n\n# Add value labels to each bar\nfor i, v in enumerate(customers_by_sales_method.values):\n    ax.text(i, v + 0.5, str(v), ha='center')\n\nplt.show()",
    "tags": []
   },
   "outputs": [
    {
     "data": {
      "image/png": "[encoded data removed]",
      "text/plain": [
       "<Figure size 432x288 with 1 Axes>"
      ]
     },
     "metadata": {
      "needs_background": "light"
     },
     "output_type": "display_data"
    }
   ],
   "source": [
    "# plot your findings using a barplot\n",
    "\n",
    "# Add value labels to each bar\n",
    "import matplotlib.pyplot as plt\n",
    "cust_per_method.plot(kind='bar')\n",
    "plt.title('Number of Customers by Sales Method')\n",
    "plt.xlabel('Sales Method')\n",
    "plt.ylabel('Number of Customers')\n",
    "\n",
    "for i, value in enumerate(cust_per_method):\n",
    "    plt.text(i, value, str(value), ha='center')\n",
    "\n",
    "plt.tight_layout()\n",
    "\n",
    "\n",
    "plt.show()"
   ]
  },
  {
   "cell_type": "markdown",
   "metadata": {},
   "source": [
    "### B. Use a Histogram to find the spread of revenue overall and for each sales method?\n"
   ]
  },
  {
   "cell_type": "code",
   "execution_count": 45,
   "metadata": {},
   "outputs": [
    {
     "data": {
      "text/plain": [
       "Index(['week', 'sales_method', 'customer_id', 'nb_sold', 'revenue',\n",
       "       'years_as_customer', 'nb_site_visits', 'state'],\n",
       "      dtype='object')"
      ]
     },
     "execution_count": 45,
     "metadata": {},
     "output_type": "execute_result"
    }
   ],
   "source": [
    "data.columns"
   ]
  },
  {
   "cell_type": "code",
   "execution_count": 48,
   "metadata": {
    "executionTime": 18,
    "lastSuccessfullyExecutedCode": "# Histogram for overall revenue\nplt.boxplot(sales_data['revenue'])\nplt.xlabel('Revenue')\nplt.ylabel('Frequency')\nplt.title('Overall Revenue Distribution')\nplt.show()",
    "tags": []
   },
   "outputs": [
    {
     "data": {
      "image/png": "[encoded data removed]",
      "text/plain": [
       "<Figure size 432x288 with 1 Axes>"
      ]
     },
     "metadata": {
      "needs_background": "light"
     },
     "output_type": "display_data"
    }
   ],
   "source": [
    "# Histogram for overall revenue. use the title for the plot 'Overall Revenue Distribution'\n",
    "import matplotlib.pyplot as plt\n",
    "plt.hist(data['revenue'], bins=50)\n",
    "plt.title('Overall Revenue Distribution')\n",
    "plt.xlabel('revenue')\n",
    "plt.ylabel('Frequency')\n",
    "\n",
    "plt.show()"
   ]
  },
  {
   "cell_type": "code",
   "execution_count": 49,
   "metadata": {
    "executionTime": 30,
    "jupyter": {
     "source_hidden": true
    },
    "lastSuccessfullyExecutedCode": "sales_data.boxplot(column='revenue', by='sales_method')\nplt.xlabel('Sales Method')\nplt.ylabel('Revenue')\nplt.title('Revenue Distribution by Sales Method')\nplt.suptitle('')  # Remove auto-generated sup-title\nplt.show()",
    "tags": []
   },
   "outputs": [
    {
     "data": {
      "image/png": "[encoded data removed]",
      "text/plain": [
       "<Figure size 720x432 with 1 Axes>"
      ]
     },
     "metadata": {
      "needs_background": "light"
     },
     "output_type": "display_data"
    }
   ],
   "source": [
    "# Plot revenue(x axis) vs sales method(y-axis) with title Revenue Distribution by Sales Method  \n",
    "import matplotlib.pyplot as plt\n",
    "\n",
    "plt.figure(figsize=(10,6))\n",
    "plt.scatter(data['revenue'],data['sales_method'])\n",
    "plt.title('Revenue Distribution by Sales Method')\n",
    "plt.xlabel('Revenue')\n",
    "plt.ylabel('Sales Method')\n",
    "plt.show()"
   ]
  },
  {
   "cell_type": "markdown",
   "metadata": {},
   "source": [
    "### C. determine and plot Revenue over Time For Each Sales Method(use the .sum().unstack()"
   ]
  },
  {
   "cell_type": "code",
   "execution_count": 51,
   "metadata": {
    "executionTime": 39,
    "jupyter": {
     "outputs_hidden": false,
     "source_hidden": true
    },
    "lastSuccessfullyExecutedCode": "revenue_over_time = sales_data.groupby(['week', 'sales_method'])['revenue'].sum().unstack()\nrevenue_over_time.plot()\nplt.xlabel('Week')\nplt.ylabel('Revenue')\nplt.title('Revenue over Time by Sales Method')\nplt.legend(title='Sales Method')\nplt.show()"
   },
   "outputs": [
    {
     "data": {
      "image/png": "[encoded data removed]",
      "text/plain": [
       "<Figure size 720x432 with 1 Axes>"
      ]
     },
     "metadata": {
      "needs_background": "light"
     },
     "output_type": "display_data"
    }
   ],
   "source": [
    "import matplotlib.pyplot as plt\n",
    "\n",
    "revenue_over_time = data.pivot_table(index='week', columns='sales_method', values='revenue', aggfunc='sum').unstack()\n",
    "revenue_over_time.plot(kind='line', figsize=(10,6))\n",
    "plt.title('Revenue Over Time by Sales Method')\n",
    "plt.xlabel('Date')\n",
    "plt.ylabel('Revenue')\n",
    "plt.legend(title='Sales Method')\n",
    "\n",
    "plt.show()"
   ]
  },
  {
   "cell_type": "markdown",
   "metadata": {},
   "source": [
    "Results from Analysis! From the table above we see following:\n",
    "- In week 1, the 'Email' sales method generated the highest revenue ($48,122.68), followed by 'Email + Call' (20,007.40) and 'Call' (27,015.93). However, it is important to note that the 'Email' method required the least effort from the sales team, making it the most efficient method during the first week.\n",
    "- Over the course of the 6 weeks sales generated from the Email sales method consistently decreased. This decline in revenue overtime could indicate diminishing returns from the Email sales method as time goes on.\n",
    "- The call method shows an overall incresing trend in revenue overtime with some fluctations. Towards the end of the 6 week period the amount of revenue generated from the Call method began to decrease.\n",
    "- The Email + Call method shows a healthy increasing trend of revenue over the 6 week period. It's possible that this method would be the most beneficial in terms of long-term revenue growth compared to the two other sales methods.\n",
    "\n",
    "In conclusion, the Email + Call sales method appears to be the most promising in terms of long-term revenue generation, although it does require more effort from the sales team. The Email method starts strong but shows a steady decline, while the Call method has an overall increasing trend but fluctuates more. It is recommended to consider the efficiency and effort required for each method while making a decision on which sales method to continue using."
   ]
  },
  {
   "cell_type": "code",
   "execution_count": 52,
   "metadata": {
    "executionTime": 19,
    "jupyter": {
     "outputs_hidden": true,
     "source_hidden": true
    },
    "lastSuccessfullyExecutedCode": "revenue_over_time",
    "tags": []
   },
   "outputs": [
    {
     "name": "stdout",
     "output_type": "stream",
     "text": [
      "week\n",
      "1    272810.06\n",
      "2    198059.82\n",
      "3    183776.55\n",
      "4    235678.56\n",
      "5    254701.28\n",
      "6    163111.74\n",
      "Name: revenue, dtype: float64\n"
     ]
    }
   ],
   "source": [
    "#Print the summary revenue generated over time.\n",
    "print(data.groupby('week')['revenue'].sum())\n"
   ]
  },
  {
   "cell_type": "markdown",
   "metadata": {},
   "source": [
    "### D. Investigating other differences between customers in each group\n",
    "Looking at the charts below we can make some interesting observations:\n",
    "- The number of years we've done business with customers across each sales method was more or less equal.\n",
    "- The email + call sales method saw an average of 12 sales per customer compared to 10 for call and email methods. The majority of customers using the Email + Call method bought 10-13 items compared to 8-11 and 9-11 for the email and call methods respectively. This could suggest that customers that are engaged via the email + call sales method are more likely to buy a higher volume of items and therefore increase revenue.\n",
    "- We can also see that customer's that were contacted via the email + call sales method had more site visits on average than the email and call methods individually. This could indicate that the customer's contacted with the email + call sales method are more likely to visit our website which could increase revenue."
   ]
  },
  {
   "cell_type": "code",
   "execution_count": 54,
   "metadata": {},
   "outputs": [
    {
     "data": {
      "text/plain": [
       "Index(['week', 'sales_method', 'customer_id', 'nb_sold', 'revenue',\n",
       "       'years_as_customer', 'nb_site_visits', 'state'],\n",
       "      dtype='object')"
      ]
     },
     "execution_count": 54,
     "metadata": {},
     "output_type": "execute_result"
    }
   ],
   "source": [
    "data.columns"
   ]
  },
  {
   "cell_type": "code",
   "execution_count": 59,
   "metadata": {
    "executionTime": 27,
    "jupyter": {
     "outputs_hidden": false,
     "source_hidden": true
    },
    "lastSuccessfullyExecutedCode": "# Example: Boxplot for years_as_customer by sales_method\nsales_data.boxplot(column='years_as_customer', by='sales_method')\nplt.xlabel('Sales Method')\nplt.ylabel('Years as Customer')\nplt.title('Years as Customer Distribution by Sales Method')\nplt.suptitle('')  # Remove auto-generated sup-title\nplt.show()\n\n# Other comparisons can be performed similarly (e.g., nb_site_visits, state, etc.)"
   },
   "outputs": [
    {
     "data": {
      "image/png": "[encoded data removed]",
      "text/plain": [
       "<Figure size 432x288 with 1 Axes>"
      ]
     },
     "metadata": {
      "needs_background": "light"
     },
     "output_type": "display_data"
    }
   ],
   "source": [
    "# Plot using a Boxplot to visualize the number of years customers have been buying from the company \n",
    "# Use (column='years_as_customer', by='sales_method')\n",
    "import matplotlib.pyplot as plt\n",
    "\n",
    "data.boxplot(column='years_as_customer', by='sales_method')\n",
    "plt.title('Years as Customer by Sales Method')\n",
    "plt.xlabel('Sales Method')\n",
    "plt.ylabel('Years as Customer')\n",
    "\n",
    "plt.show()\n",
    "\n",
    "# Other comparisons can be performed similarly (e.g., nb_site_visits, state, etc.)"
   ]
  },
  {
   "cell_type": "code",
   "execution_count": 60,
   "metadata": {},
   "outputs": [
    {
     "data": {
      "image/png": "[encoded data removed]",
      "text/plain": [
       "<Figure size 720x432 with 1 Axes>"
      ]
     },
     "metadata": {
      "needs_background": "light"
     },
     "output_type": "display_data"
    }
   ],
   "source": [
    "# Plot using a Boxplot to visualize the number of new products sold in various states. \n",
    "# Use (column='nb_sold', by='state')\n",
    "import matplotlib.pyplot as plt\n",
    "data.boxplot(column='nb_sold', by='state', figsize=(10, 6))\n",
    "plt.title('Number of Products Sold by State')\n",
    "plt.xlabel('State')\n",
    "plt.ylabel('Number of Products Sold')\n",
    "plt.show()\n"
   ]
  },
  {
   "cell_type": "code",
   "execution_count": 62,
   "metadata": {
    "executionTime": 19,
    "jupyter": {
     "outputs_hidden": false,
     "source_hidden": true
    },
    "lastSuccessfullyExecutedCode": "# Example: Boxplot for years_as_customer by sales_method\nsales_data.boxplot(column='nb_sold', by='sales_method')\nplt.xlabel('Sales Method')\nplt.ylabel('Number Sold')\nplt.title('Number of Sales Distribution by Sales Method')\nplt.suptitle('')  # Remove auto-generated sup-title\nplt.show()\n\n# Other comparisons can be performed similarly (e.g., nb_site_visits, state, etc.)"
   },
   "outputs": [
    {
     "data": {
      "image/png": "[encoded data removed]",
      "text/plain": [
       "<Figure size 720x432 with 1 Axes>"
      ]
     },
     "metadata": {
      "needs_background": "light"
     },
     "output_type": "display_data"
    }
   ],
   "source": [
    "# Boxplot for years_as_customer by sales_method\n",
    "data.boxplot(column='years_as_customer', by='sales_method', figsize=(10, 6))\n",
    "plt.title('Years as Customer by Sales Method')\n",
    "plt.xlabel('Sales Method')\n",
    "plt.ylabel('Years as Customer')\n",
    "\n",
    "\n",
    "plt.show()\n"
   ]
  },
  {
   "cell_type": "code",
   "execution_count": 63,
   "metadata": {
    "executionTime": 79,
    "jupyter": {
     "outputs_hidden": false,
     "source_hidden": true
    },
    "lastSuccessfullyExecutedCode": "# Example: Boxplot for years_as_customer by sales_method\nsales_data.boxplot(column='nb_site_visits', by='sales_method')\nplt.xlabel('Sales Method')\nplt.ylabel('# of Site Visits')\nplt.title('# of Site Visits Distribution by Sales Method')\nplt.suptitle('')  # Remove auto-generated sup-title\nplt.show()\n\n# Other comparisons can be performed similarly (e.g., nb_site_visits, state, etc.)"
   },
   "outputs": [
    {
     "data": {
      "image/png": "[encoded data removed]",
      "text/plain": [
       "<Figure size 720x432 with 1 Axes>"
      ]
     },
     "metadata": {
      "needs_background": "light"
     },
     "output_type": "display_data"
    }
   ],
   "source": [
    "# Boxplot for years_as_customer by sales_method\n",
    "data.boxplot(column='years_as_customer', by='sales_method', figsize=(10, 6))\n",
    "plt.title('Years as Customer by Sales Method')\n",
    "plt.xlabel('Sales Method')\n",
    "plt.ylabel('Years as Customer')\n",
    "plt.show()"
   ]
  },
  {
   "cell_type": "code",
   "execution_count": 64,
   "metadata": {
    "executionTime": 159,
    "jupyter": {
     "outputs_hidden": false,
     "source_hidden": true
    },
    "lastSuccessfullyExecutedCode": "grouped_data = sales_data.groupby(['week', 'sales_method']).agg({'revenue': 'sum', 'customer_id': 'count'}).reset_index()\ngrouped_data['average_revenue_per_customer'] = grouped_data['revenue'] / grouped_data['customer_id']\npivot_data = grouped_data.pivot_table(index='week', columns='sales_method', values='average_revenue_per_customer')\npivot_data.plot(kind='line', marker='o')\nplt.xlabel('Week')\nplt.ylabel('Average Revenue per Customer')\nplt.title('Average Revenue per Customer by Sales Method over Time')\nplt.legend(title='Sales Method')\nplt.grid()\nplt.show()"
   },
   "outputs": [
    {
     "data": {
      "image/png": "[encoded data removed]",
      "text/plain": [
       "<Figure size 720x432 with 1 Axes>"
      ]
     },
     "metadata": {
      "needs_background": "light"
     },
     "output_type": "display_data"
    }
   ],
   "source": [
    "# Determine the Average Revenue per Customer by Sales Method over Time\n",
    "average_revenue = data.groupby(['sales_method', 'week'])['revenue'].mean().reset_index()\n",
    "plt.figure(figsize=(10,6))\n",
    "for method in data['sales_method'].unique():\n",
    "    method_revenue = average_revenue[average_revenue['sales_method'] == method]\n",
    "    plt.plot(method_revenue['week'], method_revenue['revenue'], label=method)\n",
    "plt.title('Average Revenue per Customer by Sales Method over Time')\n",
    "plt.xlabel('week')\n",
    "plt.ylabel('Average Revenue')\n",
    "plt.legend()\n",
    "\n",
    "\n",
    "plt.grid()\n",
    "plt.show()"
   ]
  },
  {
   "cell_type": "markdown",
   "metadata": {},
   "source": [
    "## 4. Defining Business Metrics to Track Performance - Average Revenue per Customer Sales Effort\n",
    "To get a better understanding of the performance of each sales method let's create a metric called Average Reveue per Customer Sales Effort(ARPSE). This metric takes into account the difficulty of each sales method in terms of time spent with email having a value of 0.5, email + call 1 and call 3.\n",
    "\n",
    "**ARCPM = (Total Revenue for Method) / (Number of customers * Sales effort)**"
   ]
  },
  {
   "cell_type": "code",
   "execution_count": 66,
   "metadata": {},
   "outputs": [
    {
     "data": {
      "text/plain": [
       "Index(['week', 'sales_method', 'customer_id', 'nb_sold', 'revenue',\n",
       "       'years_as_customer', 'nb_site_visits', 'state'],\n",
       "      dtype='object')"
      ]
     },
     "execution_count": 66,
     "metadata": {},
     "output_type": "execute_result"
    }
   ],
   "source": [
    "data.columns"
   ]
  },
  {
   "cell_type": "code",
   "execution_count": 68,
   "metadata": {
    "executionTime": 15,
    "jupyter": {
     "outputs_hidden": false,
     "source_hidden": true
    },
    "lastSuccessfullyExecutedCode": "# Define the sales effort for each sales method\nsales_effort = {\n    'Email': 0.5,\n    'Call': 3,\n    'Email + Call': 1\n}\n\n# Group the data by sales_method and aggregate the total revenue and number of customers\ngrouped_data = sales_data.groupby('sales_method').agg({'revenue': 'sum', 'customer_id': 'count'}).reset_index()\n\n# Calculate ARCPSE for each sales method\ngrouped_data['ARCPSE'] = grouped_data.apply(lambda row: row['revenue'] / (row['customer_id'] * sales_effort[row['sales_method']]), axis=1)\n\n# Display the ARCPSE for each sales method\nprint(grouped_data[['sales_method', 'ARCPSE']])\n"
   },
   "outputs": [
    {
     "name": "stdout",
     "output_type": "stream",
     "text": [
      "   sales_method    revenue  nb_sold    ARCPSE\n",
      "0          Call  227563.49    47187  0.048226\n",
      "1         Email  672317.83    72639  0.092556\n",
      "2  Email + Call  408256.69    31444  0.129836\n"
     ]
    }
   ],
   "source": [
    "# Define the sales effort for each sales method\n",
    "sales_effort = data.groupby('sales_method')[['revenue', 'nb_sold']].sum().reset_index()\n",
    "\n",
    "\n",
    "# Group the data by sales_method and aggregate the total revenue and number of customers\n",
    "sales_effort['ARCPSE'] = sales_effort['revenue'] / (sales_effort['nb_sold'] * 100)\n",
    "\n",
    "\n",
    "# Calculate ARCPSE for each sales method\n",
    "print(sales_effort)\n",
    "\n",
    "# Display the ARCPSE for each sales method\n",
    "\n"
   ]
  },
  {
   "cell_type": "markdown",
   "metadata": {},
   "source": [
    "Your Analysis results!!!!!!!!\n",
    "The ARCPSE results show that Email has the highest value with 194.25, followed by Email + Call with 183.65 and finally call with 15.86. This suggests that the call method is the most efficient in terms of reveneue generated per unit of effort.\n",
    "\n",
    "However, it is important to note that additional factors have been observed. The 'Email + Call' method had customers with more website visits and higher average number of items purchased. Moreover, this method demonstrated a steady increase in revenue growth over the six-week period. In contrast, the 'Call' method showed high revenue in week 1 but decreased over time."
   ]
  },
  {
   "cell_type": "markdown",
   "metadata": {},
   "source": [
    "## Conclusion and Recommendations\n",
    "Taking in all factors from the analysis it is recommended to focus on the Email + Call method for the following reasons:\n",
    "\n",
    "- While 'Email' has the highest ARCPSE, the 'Email + Call' method generates more customer engagement, as evidenced by higher website visits and average items purchased. This could lead to stronger customer relationships and long-term growth.\n",
    "- The 'Email + Call' method has shown a consistent upward trend in revenue generation over six weeks, indicating its potential for continued success.\n",
    "- The 'Call' method is the least efficient in terms of effort and revenue generation and has a downward trend in revenue over time.\n",
    "In conclusion, the 'Email + Call' method should be prioritized for sales efforts, as it demonstrates better customer engagement, consistent revenue growth, and a more sustainable balance between effort and return."
   ]
  }
 ],
 "metadata": {
  "colab": {
   "name": "Welcome to DataCamp Workspaces.ipynb",
   "provenance": []
  },
  "kernelspec": {
   "display_name": "Python 3",
   "language": "python",
   "name": "python3"
  },
  "language_info": {
   "codemirror_mode": {
    "name": "ipython",
    "version": 3
   },
   "file_extension": ".py",
   "mimetype": "text/x-python",
   "name": "python",
   "nbconvert_exporter": "python",
   "pygments_lexer": "ipython3",
   "version": "3.8.3"
  }
 },
 "nbformat": 4,
 "nbformat_minor": 5
}
